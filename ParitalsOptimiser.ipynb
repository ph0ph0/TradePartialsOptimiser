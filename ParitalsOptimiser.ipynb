{
 "metadata": {
  "language_info": {
   "codemirror_mode": {
    "name": "ipython",
    "version": 3
   },
   "file_extension": ".py",
   "mimetype": "text/x-python",
   "name": "python",
   "nbconvert_exporter": "python",
   "pygments_lexer": "ipython3",
   "version": "3.8.5"
  },
  "orig_nbformat": 2,
  "kernelspec": {
   "name": "python385jvsc74a57bd040288931763425223b7919f22330cb88204370366590cb470e4983e0930aa534",
   "display_name": "Python 3.8.5 64-bit ('base': conda)"
  }
 },
 "nbformat": 4,
 "nbformat_minor": 2,
 "cells": [
  {
   "cell_type": "code",
   "execution_count": 7,
   "metadata": {},
   "outputs": [
    {
     "output_type": "stream",
     "name": "stdout",
     "text": [
      "***\n0\n[30, 60, 60, 100]\n[1, 60, 60, 100]\n127120.0\n***\n1\n[30, 60, 60, 100]\n[30, 1, 60, 100]\n127120.0\n***\n2\n[30, 60, 60, 100]\n[30, 60, 1, 100]\n127120.0\n***\n3\n[30, 60, 60, 100]\n[30, 60, 60, 1]\n127120.0\n"
     ]
    }
   ],
   "source": [
    "import pandas as pd\n",
    "from functools import reduce\n",
    "import numpy as np\n",
    "import PartialsCalculator as pc\n",
    "\n",
    "# list of partials\n",
    "partials = [30, 60, 60, 100]\n",
    "at_R = [2, 3, 4, 5]\n",
    "Probability_AtR = [70, 60, 10, 5]\n",
    "\n",
    "\n",
    "if partials[-1] != 100:\n",
    "    raise Exception(\"Final partial must be 100\")\n",
    "if len(partials) != len(at_R):\n",
    "    raise Exception(\"Number of partials must be equal to number of AtR\")\n",
    "for idx, probability in enumerate(Probability_AtR):\n",
    "    if idx == 0:\n",
    "        continue\n",
    "    if probability > Probability_AtR[idx - 1]:\n",
    "        raise Exception(\"Probabilities must decrease from left to right\")\n",
    "\n",
    "cumsum = pc.Caclulate_CumSum_Profit(partials, at_R)\n",
    "total_profit = pc.Total_Profit(Probability_AtR, cumsum)\n",
    "\n",
    "# print(cumsum)\n",
    "# print(total_profit)\n",
    "\n",
    "# Now we need to loop through the probability array and do a run for each probability value for each partial percentage between 1 and 99\n",
    "results_array = []\n",
    "percentage = 1\n",
    "\n",
    "for idx, probability in enumerate(Probability_AtR):\n",
    "    print(\"***\")\n",
    "    print(idx)\n",
    "    # Note that all variables are reference type, so we need to create a new list.\n",
    "    partial_array = list(partials)\n",
    "    partial_array[idx] = percentage\n",
    "    print(partials)\n",
    "    print(partial_array)\n",
    "    cumsum = pc.Caclulate_CumSum_Profit(partials, at_R)\n",
    "    total_profit = pc.Total_Profit(Probability_AtR, cumsum)\n",
    "    print(total_profit)\n"
   ]
  }
 ]
}