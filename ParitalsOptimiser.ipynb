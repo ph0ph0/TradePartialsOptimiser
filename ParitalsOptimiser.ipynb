{
 "metadata": {
  "language_info": {
   "codemirror_mode": {
    "name": "ipython",
    "version": 3
   },
   "file_extension": ".py",
   "mimetype": "text/x-python",
   "name": "python",
   "nbconvert_exporter": "python",
   "pygments_lexer": "ipython3",
   "version": "3.8.5"
  },
  "orig_nbformat": 2,
  "kernelspec": {
   "name": "python385jvsc74a57bd040288931763425223b7919f22330cb88204370366590cb470e4983e0930aa534",
   "display_name": "Python 3.8.5 64-bit ('base': conda)"
  }
 },
 "nbformat": 4,
 "nbformat_minor": 2,
 "cells": [
  {
   "cell_type": "code",
   "execution_count": 2,
   "metadata": {},
   "outputs": [],
   "source": [
    "import pandas as pd\n",
    "from functools import reduce\n",
    "from itertools import product\n",
    "import numpy as np\n",
    "import PartialsCalculator as pc\n",
    "\n",
    "# list of partials\n",
    "partials = [10, 50, 90, 95, 98, 100]\n",
    "at_R = [1, 2, 3, 4, 5, 6]\n",
    "Probability_AtR = [81, 67, 47, 33, 28, 17]\n",
    "\n",
    "\n",
    "if partials[-1] != 100:\n",
    "    raise Exception(\"Final partial must be 100\")\n",
    "if len(partials) != len(at_R):\n",
    "    raise Exception(\"Number of partials must be equal to number of AtR\")\n",
    "for idx, probability in enumerate(Probability_AtR):\n",
    "    if idx == 0:\n",
    "        continue\n",
    "    if probability > Probability_AtR[idx - 1]:\n",
    "        raise Exception(\"Probabilities must decrease from left to right\")\n",
    "\n",
    "# print(cumsum)\n",
    "# print(total_profit)\n",
    "\n",
    "# Now we need to loop through the probability array and do a run for each probability value for each partial percentage between 1 and 99. The number of loops is equal to the max_range^elements. \n",
    "\n",
    "def Caclulate_CumSum_Profit(Partials, AtR):\n",
    "    total_shares = 1000\n",
    "    remaining_shares = total_shares\n",
    "    total_profit = 0\n",
    "    profit_array = []\n",
    "    for idx, partial in enumerate(Partials):\n",
    "        # Percentage of shares to close\n",
    "        shares_to_close = remaining_shares * (partial / 100)\n",
    "        # print(shares_to_close)\n",
    "        remaining_shares = remaining_shares - shares_to_close\n",
    "        profit = shares_to_close * AtR[idx]\n",
    "        profit_array.append(profit)\n",
    "        total_profit += profit\n",
    "    return np.cumsum(profit_array)\n",
    "\n",
    "\n",
    "\n",
    "# ------------------*****************--------------------\n",
    "\n",
    "# The count of probability will be the same as the count of partial percentage, hence we iterate through this.\n",
    "def CalculateTotal(partial_array_, at_R_, Probability_AtR_):\n",
    "    cumsum = pc.Caclulate_CumSum_Profit(partial_array_, at_R_)\n",
    "    total_profit = pc.Total_Profit(Probability_AtR_, cumsum)\n",
    "    return total_profit\n",
    "\n",
    "# Produces an array of partial percentages. These are the size of the partials as a percentage of the position after the previous partials.\n",
    "partials_perc_list = list(product(range(0, 101), repeat=len(at_R)))\n",
    "# print(partials_perc_list)\n",
    "results_array = []\n",
    "# for idx, partial in enumerate(partials_perc_list):\n",
    "    # print(partial)\n",
    "\n",
    "# print(len(partials_perc_list))\n",
    "\n",
    "for partial_tuple in partials_perc_list:\n",
    "    if (partial_tuple[-1] != 100):\n",
    "        continue\n",
    "    # print(partial_tuple)\n",
    "    total = CalculateTotal(partial_tuple, at_R, Probability_AtR)\n",
    "    results_array.append((partial_tuple, total))\n",
    "\n",
    "\n",
    "sorted_results = sorted(results_array, key = lambda x: x[1], reverse = True)\n",
    "print(sorted_results)\n",
    "\n",
    "# NOTE: The output is telling us that for Simon's case, he is best off partialling heavily at 3R (assuming that he isn't playing an all day trend). \n",
    "# Would he agree that this aligns with his MFE value?\n",
    "\n",
    "# The problem is that the best result always liquidates the position at 2R! This can't be true.\n",
    "# Need to work out how much you make if you liquidate all at the first R, vs if you hold through the Rs."
   ]
  },
  {
   "cell_type": "code",
   "execution_count": 1,
   "metadata": {},
   "outputs": [
    {
     "output_type": "stream",
     "name": "stdout",
     "text": [
      "x:\n6\nn:\n87\nx:\n13\nn:\n8\nx:\n21\nn:\n0\n***END\n21\n"
     ]
    }
   ],
   "source": [
    "n = 876\n",
    "x = 0\n",
    "while n > 0:\n",
    "    x += n % 10\n",
    "    n //= 10\n",
    "    \n",
    "print(\"***END\")\n",
    "print(x)"
   ]
  },
  {
   "cell_type": "code",
   "execution_count": 3,
   "metadata": {},
   "outputs": [
    {
     "output_type": "stream",
     "name": "stdout",
     "text": [
      "643\n['6', '4', '3']\n"
     ]
    }
   ],
   "source": [
    "from functools import reduce\n",
    "\n",
    "n = 643\n",
    "\n",
    "y = reduce(lambda x, y: int(x) + int(y),  list(str(n)))\n",
    "# print(y)"
   ]
  },
  {
   "cell_type": "code",
   "execution_count": null,
   "metadata": {},
   "outputs": [],
   "source": []
  }
 ]
}