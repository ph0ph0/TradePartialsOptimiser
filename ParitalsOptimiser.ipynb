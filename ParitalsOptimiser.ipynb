{
 "metadata": {
  "language_info": {
   "codemirror_mode": {
    "name": "ipython",
    "version": 3
   },
   "file_extension": ".py",
   "mimetype": "text/x-python",
   "name": "python",
   "nbconvert_exporter": "python",
   "pygments_lexer": "ipython3",
   "version": "3.8.5"
  },
  "orig_nbformat": 2,
  "kernelspec": {
   "name": "python385jvsc74a57bd040288931763425223b7919f22330cb88204370366590cb470e4983e0930aa534",
   "display_name": "Python 3.8.5 64-bit ('base': conda)"
  }
 },
 "nbformat": 4,
 "nbformat_minor": 2,
 "cells": [
  {
   "cell_type": "code",
   "execution_count": 43,
   "metadata": {},
   "outputs": [
    {
     "output_type": "stream",
     "name": "stdout",
     "text": [
      "[100.0, 300.0, 250.0, 50.0]\n"
     ]
    }
   ],
   "source": [
    "import pandas as pd\n",
    "from functools import reduce\n",
    "from itertools import product\n",
    "import numpy as np\n",
    "import PartialsCalculator as pc\n",
    "\n",
    "# list of partials\n",
    "partials = [30,60,90, 100]\n",
    "at_R = [2, 3, 4, 5]\n",
    "Probability_AtR = [70, 60, 30, 5]\n",
    "\n",
    "\n",
    "if partials[-1] != 100:\n",
    "    raise Exception(\"Final partial must be 100\")\n",
    "if len(partials) != len(at_R):\n",
    "    raise Exception(\"Number of partials must be equal to number of AtR\")\n",
    "for idx, probability in enumerate(Probability_AtR):\n",
    "    if idx == 0:\n",
    "        continue\n",
    "    if probability > Probability_AtR[idx - 1]:\n",
    "        raise Exception(\"Probabilities must decrease from left to right\")\n",
    "\n",
    "cumsum = pc.Caclulate_CumSum_Profit(partials, at_R)\n",
    "total_profit = pc.Total_Profit(Probability_AtR, cumsum)\n",
    "\n",
    "# print(cumsum)\n",
    "# print(total_profit)\n",
    "\n",
    "# Now we need to loop through the probability array and do a run for each probability value for each partial percentage between 1 and 99. The number of loops is equal to the max_range^elements. \n",
    "results_array = []\n",
    "\n",
    "# The count of probability will be the same as the count of partial percentage, hence we iterate through this.\n",
    "\n",
    "def CalculateTotal(partial_array_, at_R_, Probability_AtR_):\n",
    "    cumsum = pc.Caclulate_CumSum_Profit(partial_array_, at_R_)\n",
    "    total_profit = pc.Total_Profit(Probability_AtR_, cumsum)\n",
    "    return total_profit\n",
    "\n",
    "# Produces an array of partial percentages\n",
    "partials_perc_list = list(product(range(5), repeat=4))\n",
    "# print(partials_perc_list)\n",
    "a_ = []\n",
    "# for idx, partial in enumerate(partials_perc_list):\n",
    "    # print(partial)\n",
    "\n",
    "for partial_tuple in partials_perc_list:\n",
    "    # print(partial_tuple[1])\n",
    "\n",
    "    total = CalculateTotal(partial_tuple, at_R, Probability_AtR)\n",
    "    a_.append((partial_tuple, total))\n",
    "\n",
    "# print(a_)\n",
    "\n",
    "# for idx, probability in enumerate(Probability_AtR):\n",
    "#     # Note that all variables are reference type, so we need to create a new list.\n",
    "#     percentage = 1\n",
    "\n",
    "#     # We only want to loop through the first element first.\n",
    "#     for x in range (3):\n",
    "#         partial_array = list(partials)\n",
    "#         # print(percentage)\n",
    "#         partial_array[idx] = percentage\n",
    "#         total = CalculateTotal(partial_array, at_R, Probability_AtR)\n",
    "#         results_array.append((partial_array, total_profit))\n",
    "#         percentage += 1\n",
    "\n",
    "# sorted_results = sorted(results_array, key = lambda x: x[1], reverse = True)\n",
    "# print(results_array)\n",
    "# print(partials[1:])\n"
   ]
  }
 ]
}