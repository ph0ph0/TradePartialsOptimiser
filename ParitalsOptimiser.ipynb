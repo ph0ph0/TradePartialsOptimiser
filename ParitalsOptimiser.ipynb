{
 "metadata": {
  "language_info": {
   "codemirror_mode": {
    "name": "ipython",
    "version": 3
   },
   "file_extension": ".py",
   "mimetype": "text/x-python",
   "name": "python",
   "nbconvert_exporter": "python",
   "pygments_lexer": "ipython3",
   "version": "3.8.5"
  },
  "orig_nbformat": 2,
  "kernelspec": {
   "name": "python385jvsc74a57bd040288931763425223b7919f22330cb88204370366590cb470e4983e0930aa534",
   "display_name": "Python 3.8.5 64-bit ('base': conda)"
  }
 },
 "nbformat": 4,
 "nbformat_minor": 2,
 "cells": [
  {
   "cell_type": "code",
   "execution_count": 3,
   "metadata": {},
   "outputs": [
    {
     "output_type": "stream",
     "name": "stdout",
     "text": [
      "[ 60.  186.  253.2 309.2]\n127120.0\n"
     ]
    }
   ],
   "source": [
    "import pandas as pd\n",
    "from functools import reduce\n",
    "import numpy as np\n",
    "import PartialsCalculator as pc\n",
    "\n",
    "# list of partials\n",
    "partials = [30, 60, 60, 100]\n",
    "at_R = [2, 3, 4, 5]\n",
    "Probability_AtR = [70, 60, 10, 5]\n",
    "\n",
    "\n",
    "if partials[-1] != 100:\n",
    "    raise Exception(\"Final partial must be 100\")\n",
    "if len(partials) != len(at_R):\n",
    "    raise Exception(\"Number of partials must be equal to number of AtR\")\n",
    "for idx, probability in enumerate(Probability_AtR):\n",
    "    if idx == 0:\n",
    "        continue\n",
    "    if probability > Probability_AtR[idx - 1]:\n",
    "        raise Exception(\"Probabilities must decrease from left to right\")\n",
    "\n",
    "cumsum = pc.Caclulate_CumSum_Profit(partials, at_R)\n",
    "total_profit = pc.Total_Profit(Probability_AtR, cumsum)\n",
    "\n",
    "print(cumsum)\n",
    "print(total_profit)"
   ]
  }
 ]
}